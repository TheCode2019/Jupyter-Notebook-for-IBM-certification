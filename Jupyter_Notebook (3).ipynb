{
 "cells": [
  {
   "cell_type": "markdown",
   "metadata": {},
   "source": [
    "<center>\n",
    "    <img src=\"https://cf-courses-data.s3.us.cloud-object-storage.appdomain.cloud/IBMDeveloperSkillsNetwork-DS0105EN-SkillsNetwork/labs/Module2/images/SN_web_lightmode.png\" width=\"300\" alt=\"cognitiveclass.ai logo\">\n",
    "</center>\n"
   ]
  },
  {
   "cell_type": "markdown",
   "metadata": {},
   "source": [
    "#### Add your code below following the instructions given in the course\n"
   ]
  },
  {
   "cell_type": "markdown",
   "metadata": {
    "tags": []
   },
   "source": [
    "This is my assignment"
   ]
  },
  {
   "cell_type": "markdown",
   "metadata": {
    "tags": []
   },
   "source": [
    "This is a showcase of the basics of data science ,From listing languages and libraries to performing simple arithmetic operations.\n"
   ]
  },
  {
   "cell_type": "markdown",
   "metadata": {},
   "source": [
    "This is a list of all the programming languages usable in data science:\n",
    "- Python\n",
    "- R\n",
    "- SQL\n",
    "- Julia\n",
    "- Scala"
   ]
  },
  {
   "cell_type": "markdown",
   "metadata": {},
   "source": [
    "These are the libraries used : \n",
    "- Pandas\n",
    "- NumPy\n",
    "- SciPy\n",
    "- Scikit-learn\n",
    "- TensorFlow\n",
    "- PyTorch\n"
   ]
  },
  {
   "cell_type": "markdown",
   "metadata": {},
   "source": [
    "Here are all the usable tools in data science in the form of a table\n",
    "\n",
    "| Tool          | Type          | Description                                |\n",
    "|---------------|---------------|--------------------------------------------|\n",
    "| Jupyter       | IDE           | Interactive development environment        |\n",
    "| Tableau       | Visualization | Data visualization tool                    |\n",
    "| TensorFlow    | ML            | Machine learning platform                  |\n",
    "| Git           | VC            | System for tracking changes in code        |\n",
    "| Apache Spark  | Big Data      | large-scale data processing                |"
   ]
  },
  {
   "cell_type": "markdown",
   "metadata": {},
   "source": [
    "Here is a compilation of some arithmetic operations that we use:\n",
    "- `a + b`: Addition\n",
    "- `a - b`: Subtraction\n",
    "- `a * b`: Multiplication\n",
    "- `a / b`: Division\n",
    "- `a % b`: Modulus"
   ]
  },
  {
   "cell_type": "code",
   "execution_count": 3,
   "metadata": {
    "tags": []
   },
   "outputs": [
    {
     "name": "stdout",
     "output_type": "stream",
     "text": [
      "Result is: 24\n"
     ]
    }
   ],
   "source": [
    "# We can also put some code in the notebook !\n",
    "\n",
    "a = 6\n",
    "b = 4\n",
    "result = a * b\n",
    "\n",
    "print(\"Result is:\", result)"
   ]
  },
  {
   "cell_type": "code",
   "execution_count": 4,
   "metadata": {
    "tags": []
   },
   "outputs": [
    {
     "name": "stdin",
     "output_type": "stream",
     "text": [
      "How many minutes do you want ? 30\n"
     ]
    },
    {
     "name": "stdout",
     "output_type": "stream",
     "text": [
      "30 minutes is equal to 0.5 hours\n"
     ]
    }
   ],
   "source": [
    "#  Here, we are going to convert minutes to hours\n",
    "\n",
    "minutes = int(input(\"How many minutes do you want ?\"))\n",
    "hours = minutes / 60\n",
    "print(minutes, \"minutes is equal to\", hours, \"hours\")"
   ]
  },
  {
   "cell_type": "markdown",
   "metadata": {},
   "source": [
    "The main objectives of this notebook are to:\n",
    "\n",
    "1. Acquire the fundamentals of Jupyter Notebook\n",
    "2. Manipulate different types of inputs such as code or markdown\n",
    "3. have fun !"
   ]
  },
  {
   "cell_type": "markdown",
   "metadata": {},
   "source": [
    "Author:\n",
    "\n",
    "Written by Yassine Mahroug"
   ]
  },
  {
   "cell_type": "code",
   "execution_count": null,
   "metadata": {},
   "outputs": [],
   "source": []
  }
 ],
 "metadata": {
  "kernelspec": {
   "display_name": "Python",
   "language": "python",
   "name": "conda-env-python-py"
  },
  "language_info": {
   "codemirror_mode": {
    "name": "ipython",
    "version": 3
   },
   "file_extension": ".py",
   "mimetype": "text/x-python",
   "name": "python",
   "nbconvert_exporter": "python",
   "pygments_lexer": "ipython3",
   "version": "3.7.12"
  }
 },
 "nbformat": 4,
 "nbformat_minor": 4
}
